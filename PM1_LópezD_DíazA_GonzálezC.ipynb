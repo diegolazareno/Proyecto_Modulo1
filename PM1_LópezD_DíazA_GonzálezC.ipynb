{
 "cells": [
  {
   "cell_type": "markdown",
   "metadata": {},
   "source": [
    "![](LogoIteso.jpg)"
   ]
  },
  {
   "cell_type": "markdown",
   "metadata": {},
   "source": [
    "# Integrantes\n",
    "+ Díaz Verduzco Alexia Marisol IF720500\n",
    "+ Gónzalez Reyes Christian Eduardo IF721850\n",
    "+ López Lazareno Diego Alberto IF722100"
   ]
  },
  {
   "cell_type": "markdown",
   "metadata": {},
   "source": [
    "# 1.1 [Arbitraje en el Mercado de Divisas (FX)](http://www.meiss.com/columbia/en/teaching/1999/fall/B6015/download/lecture05/lec5.pdf)"
   ]
  },
  {
   "cell_type": "markdown",
   "metadata": {},
   "source": [
    "![](Trading.jpg)"
   ]
  },
  {
   "cell_type": "markdown",
   "metadata": {},
   "source": [
    "## 1.2 Objetivos"
   ]
  },
  {
   "cell_type": "markdown",
   "metadata": {},
   "source": [
    "### 1.2.1 Objetivo general\n",
    "\n",
    "+ ***Optimizar la ruta de compra y venta de activos en el Mercado de Divisas (FX)*** para realizar arbitraje."
   ]
  },
  {
   "cell_type": "markdown",
   "metadata": {},
   "source": [
    "### 1.2.2 Objetivos específicos\n",
    "\n",
    "+ ***Encontrar***, para pares de divisas seleccionadas arbitrariamente, ***la ruta óptima en que estos activos deben ser negociadas.*** \n",
    "\n",
    "+ Modelar la negociación con el ***USD DÓLAR, LA LIBRA, EL FRACO FRANCÉS, EL MARCO ALEMÁN Y EL YEN JAPONÉS.***  \n",
    "\n",
    "+ Con la ruta óptima, si es que existe, ***obtener una utilidad instantánea libre de riesgo al aprovecharnos de la diferencia de precios*** de tales divisas en diferentes mercados. El truco está en terminar la operación con más dólares (in) de los que cambiamos por las otras divisas en un principio (out).\n",
    "\n",
    "+ ***Solucionar el problema descrito por medio de la librería Scipy, con su módulo de programación lineal***, ya que el problema estará sujeto a ciertas restricciones y puede modelarse a traves de desigualdades en forma matricial y vectorial."
   ]
  },
  {
   "cell_type": "markdown",
   "metadata": {},
   "source": [
    "## 1.3 Modelo que representa el problema"
   ]
  },
  {
   "cell_type": "markdown",
   "metadata": {},
   "source": [
    "### 1.3.1 ¿Qué situación representa el modelo?\n",
    "\n",
    "+ Con nuestro modelo queremos encontrar las cantidades óptimas de dólares que debemos intercambiar por  otras divisas (out) y a su vez nuevas cantidades óptimas de divisas que debemos intercambiar por dólares (in). El objetivo de tal operación es **ir cambiando de divisas, primero deshaciéndonos de los dólares, en un proceso de ida y vuelta, donde obtendremos una utilidad si con cualquier otra divisa podemos comprar más dólares de los que inicialmente teníamos.**\n",
    "\n",
    "### 1.3.2 Limitaciones del modelo\n",
    "\n",
    "+ Una limitante del modelo es que el sistema de precios no se actualiza en tiempo real, impidiendo detectar las oportunidades de arbitraje. \n"
   ]
  },
  {
   "cell_type": "markdown",
   "metadata": {},
   "source": [
    "![](Modelo1.png)"
   ]
  },
  {
   "cell_type": "markdown",
   "metadata": {},
   "source": [
    "### 1.3.3 Parámetros\n",
    "Los siguientes parámetros se interpretan como: **la cantidad de divisas que podemos comprar con nuestra divisa base** (columna izquierda del DataFrame). Tales coeficientes resultan importantes, pues acompañarán a nuestras variables de decisión y *determinarán cuántas unidades monetarias tendremos al hacer nuestra transacción.*"
   ]
  },
  {
   "cell_type": "code",
   "execution_count": 1,
   "metadata": {},
   "outputs": [
    {
     "data": {
      "text/html": [
       "<div>\n",
       "<style scoped>\n",
       "    .dataframe tbody tr th:only-of-type {\n",
       "        vertical-align: middle;\n",
       "    }\n",
       "\n",
       "    .dataframe tbody tr th {\n",
       "        vertical-align: top;\n",
       "    }\n",
       "\n",
       "    .dataframe thead th {\n",
       "        text-align: right;\n",
       "    }\n",
       "</style>\n",
       "<table border=\"1\" class=\"dataframe\">\n",
       "  <thead>\n",
       "    <tr style=\"text-align: right;\">\n",
       "      <th></th>\n",
       "      <th>USD_DOLLAR</th>\n",
       "      <th>POUND</th>\n",
       "      <th>F_FRANCO</th>\n",
       "      <th>D_MARK</th>\n",
       "      <th>YEN</th>\n",
       "    </tr>\n",
       "    <tr>\n",
       "      <th>De</th>\n",
       "      <th></th>\n",
       "      <th></th>\n",
       "      <th></th>\n",
       "      <th></th>\n",
       "      <th></th>\n",
       "    </tr>\n",
       "  </thead>\n",
       "  <tbody>\n",
       "    <tr>\n",
       "      <th>USD_DOLLAR</th>\n",
       "      <td>0.00000</td>\n",
       "      <td>0.63900</td>\n",
       "      <td>5.37120</td>\n",
       "      <td>1.57120</td>\n",
       "      <td>98.8901</td>\n",
       "    </tr>\n",
       "    <tr>\n",
       "      <th>POUND</th>\n",
       "      <td>1.56480</td>\n",
       "      <td>0.00000</td>\n",
       "      <td>8.43040</td>\n",
       "      <td>2.45900</td>\n",
       "      <td>154.7733</td>\n",
       "    </tr>\n",
       "    <tr>\n",
       "      <th>F_FRANCO</th>\n",
       "      <td>0.18560</td>\n",
       "      <td>0.11860</td>\n",
       "      <td>0.00000</td>\n",
       "      <td>0.29210</td>\n",
       "      <td>18.4122</td>\n",
       "    </tr>\n",
       "    <tr>\n",
       "      <th>D_MARK</th>\n",
       "      <td>0.63610</td>\n",
       "      <td>0.40630</td>\n",
       "      <td>3.42330</td>\n",
       "      <td>0.00000</td>\n",
       "      <td>62.9400</td>\n",
       "    </tr>\n",
       "    <tr>\n",
       "      <th>YEN</th>\n",
       "      <td>0.01011</td>\n",
       "      <td>0.00645</td>\n",
       "      <td>0.05431</td>\n",
       "      <td>0.01588</td>\n",
       "      <td>0.0000</td>\n",
       "    </tr>\n",
       "  </tbody>\n",
       "</table>\n",
       "</div>"
      ],
      "text/plain": [
       "            USD_DOLLAR    POUND  F_FRANCO   D_MARK       YEN\n",
       "De                                                          \n",
       "USD_DOLLAR     0.00000  0.63900   5.37120  1.57120   98.8901\n",
       "POUND          1.56480  0.00000   8.43040  2.45900  154.7733\n",
       "F_FRANCO       0.18560  0.11860   0.00000  0.29210   18.4122\n",
       "D_MARK         0.63610  0.40630   3.42330  0.00000   62.9400\n",
       "YEN            0.01011  0.00645   0.05431  0.01588    0.0000"
      ]
     },
     "execution_count": 1,
     "metadata": {},
     "output_type": "execute_result"
    }
   ],
   "source": [
    "import pandas as pd\n",
    "divisas = {\"De\":[\"USD_DOLLAR\",\"POUND\",\"F_FRANCO\",\"D_MARK\",\"YEN\"],\"USD_DOLLAR\":[0,1.5648,0.1856,0.6361,0.01011],\"POUND\":[0.6390,0,0.1186,0.4063,0.00645], \"F_FRANCO\":[5.3712,8.4304,0,3.4233,0.05431],\"D_MARK\":[1.5712,2.4590,0.2921,0,0.01588],\"YEN\":[98.8901,154.7733,18.4122,62.94,0]}\n",
    "data_frame = pd.DataFrame(divisas)\n",
    "data_frame.set_index(\"De\",inplace=True)\n",
    "data_frame"
   ]
  },
  {
   "cell_type": "markdown",
   "metadata": {},
   "source": [
    "### 1.3.4 Función objetivo\n",
    ">Se busca **maximixar las utilidades en caso de que se dé una oportunidad de arbitraje.** *Lo anterior se consigue si la cantidad de dólares que tenemos al final de la operación supera a su respectivo monto inicial.*\n",
    ">\n",
    ">$$\\max 1.5648x_{21} + 0.1856x_{31} + 0.6361x_{41} +0.01011x_{51} -(x_{12}+x_{13}+x_{14}+x_{15})$$\n",
    "\n",
    "### 1.3.5 Restricciones\n",
    ">Esta restricción cierra el ciclo de compras y ventas, ya que en caso de tener oportunidades de arbitraje buscaremos convertir la o las divisas que tengamos por dólares, la utilidad se da si y sólo si estos últimos superan a su monto inicial. Por ello **esta restricción es necesaria para que el optimizador devuelva una solución que indique cómo se pueden obtener las ganancias del arbitraje.**\n",
    ">\n",
    ">$$1.5648x_{21} + 0.1856x_{31} + 0.6361x_{41} +0.01011x_{51} -(x_{12}+x_{13}+x_{14}+x_{15}) \\leq 1$$\n",
    "\n",
    ">En caso de querer ***intercambiar cualquier divisa por libras***, tenemos la siguiente restricción, donde se establece que los montos dados en libras por cualquier divisa menos los montos iniciales de libras debe ser mayor o iguales a $0$.\n",
    ">\n",
    ">$$0.6390x_{12} + 0.1186x_{32} + 0.4063x_{42} + 0.00645x_{52} -(x_{21}+x_{23}+x_{24}+x_{25}) \\geq 0$$\n",
    "\n",
    ">En caso de querer ***intercambiar cualquier divisa por francos***, tenemos la siguiente restricción, donde se establece que los montos dados en francos por cualquier divisa menos los montos iniciales de francos deben ser mayor o iguales a $0$. \n",
    ">\n",
    ">$$5.3712x_{13} + 8.4304x_{23} + 3.4233x_{43} + 0.05431x_{53} -(x_{31}+x_{32}+x_{34}+x_{35}) \\geq 0$$\n",
    "\n",
    ">En caso de querer ***intercambiar cualquier divisa por marcos***, tenemos la siguiente restricción, donde se establece que los montos dados en marcos por cualquier divisa menos los montos iniciales de marcos deben ser mayor o iguales a $0$. \n",
    ">\n",
    ">$$1.5712x_{14} + 2.4590x_{24} + 0.2921x_{34} + 0.01588x_{54} -(x_{41}+x_{42}+x_{43}+x_{45}) \\geq 0$$\n",
    "\n",
    ">En caso de querer ***intercambiar cualquier divisa por yenes***, tenemos la siguiente restricción, donde se establece que los montos dados en yenes por cualquier divisa menos los montos iniciales de yenes deben ser mayor o iguales a $0$. \n",
    ">\n",
    ">$$98.8901x_{15} + 154.7733x_{25} + 18.4122x_{35} + 62.94x_{45} -(x_{51}+x_{52}+x_{53}+x_{54}) \\geq 0$$\n",
    "\n",
    "### 1.3.6 Límites de las variables de decisión\n",
    ">Las variables de decisión, que muestran las cantidades óptimas de cada divisa a ser intercambiada, deben ser mayores o iguales a $0$, pues ***no hay transacciones negativas***. A su vez, estas cantidades tienen un límite superior arbitrario, pues la cantidad de dinero que poseemos es finita.\n",
    ">\n",
    ">$$0\\leq x_{11}...x_{55}\\leq 6,000$$ \n"
   ]
  },
  {
   "cell_type": "markdown",
   "metadata": {},
   "source": [
    "## 1. 4 Solución del problema de optimización"
   ]
  },
  {
   "cell_type": "code",
   "execution_count": 1,
   "metadata": {},
   "outputs": [],
   "source": [
    "import numpy as np\n",
    "import scipy.optimize as opt"
   ]
  },
  {
   "cell_type": "code",
   "execution_count": 2,
   "metadata": {},
   "outputs": [],
   "source": [
    "c=np.array([0,1,1,1,1,\n",
    "            -1.5648,0,0,0,0,\n",
    "           -0.1856,0,0,0,0,\n",
    "           -0.6361,0,0,0,0,\n",
    "           -0.01011,0,0,0,0])\n",
    "\n",
    "A_ub=np.array([[0,-1,-1,-1,-1,\n",
    "               1.5648,0,0,0,0,\n",
    "               0.1856,0,0,0,0,\n",
    "               0.6361,0,0,0,0,\n",
    "               0.01011,0,0,0,0],\n",
    "              [0,-0.6390,0,0,0,\n",
    "              1,0,1,1,1,\n",
    "              0,-0.1186,0,0,0,\n",
    "              0,-0.4063,0,0,0,\n",
    "              0,-0.00645,0,0,0],\n",
    "              [0,0,-5.3712,0,0,\n",
    "              0,0,-8.4304,0,0,\n",
    "              1,1,0,1,1,\n",
    "              0,0,-3.4233,0,0,\n",
    "              0,0,-0.05431,0,0],\n",
    "              [0,0,0,-1.5712,0,\n",
    "              0,0,0,-2.4590,0,\n",
    "              0,0,0,-0.2921,0,\n",
    "              1,1,1,0,1,\n",
    "              0,0,0,-0.01588,0],\n",
    "              [0,0,0,0,-98.8901,\n",
    "              0,0,0,0,-154.7733,\n",
    "              0,0,0,0,-18.4122,\n",
    "              0,0,0,0,-62.94,\n",
    "              1,1,1,1,0]])\n",
    "\n",
    "B_ub=np.array([1,0,0,0,0])\n",
    "\n",
    "xi_bounds=(0,6000)"
   ]
  },
  {
   "cell_type": "code",
   "execution_count": 3,
   "metadata": {},
   "outputs": [
    {
     "data": {
      "text/plain": [
       "     fun: -1.0\n",
       " message: 'Optimization terminated successfully.'\n",
       "     nit: 6\n",
       "   slack: array([   0.        ,    0.        ,    0.        ,    0.        ,\n",
       "          0.        , 6000.        , 4930.78783643, 6000.        ,\n",
       "       6000.        , 6000.        , 6000.        , 6000.        ,\n",
       "       5316.77342748, 6000.        , 6000.        , 6000.        ,\n",
       "       6000.        , 6000.        ,  240.12670299, 6000.        ,\n",
       "       4317.54100994, 6000.        , 6000.        , 6000.        ,\n",
       "       6000.        , 6000.        , 6000.        , 6000.        ,\n",
       "       6000.        , 6000.        ])\n",
       "  status: 0\n",
       " success: True\n",
       "       x: array([   0.        , 1069.21216357,    0.        ,    0.        ,\n",
       "          0.        ,    0.        ,    0.        ,  683.22657252,\n",
       "          0.        ,    0.        ,    0.        ,    0.        ,\n",
       "          0.        , 5759.87329701,    0.        , 1682.45899006,\n",
       "          0.        ,    0.        ,    0.        ,    0.        ,\n",
       "          0.        ,    0.        ,    0.        ,    0.        ,\n",
       "          0.        ])"
      ]
     },
     "execution_count": 3,
     "metadata": {},
     "output_type": "execute_result"
    }
   ],
   "source": [
    "sol=opt.linprog(c,A_ub,B_ub,None,None,xi_bounds)\n",
    "sol"
   ]
  },
  {
   "cell_type": "markdown",
   "metadata": {},
   "source": [
    "### 1.4.1 Cantidad óptima a ser negociada para cada divisa\n",
    "\n",
    "*Para realizar el arbitraje es necesario realizar las siguientes transacciones:*\n",
    "\n",
    "1. Intercambiar **1069.2121 USD_DOLARS por libras** (0.6390 POUNDS/USD_DOLLAR) = 683.22 POUNDS\n",
    "\n",
    "\n",
    "2. Intercambiar **683.22 POUNDS por francos franceses** (8.4304 F_FRANCOS/POUND) = 5759.87 F_FRANCOS.\n",
    "\n",
    "\n",
    "3. Intercambiar **5759.87 F_FRANCOS por marcos alemanes** (0.2921 D_MARK/F_FRANCOS) = 1682.45 D_MARKS.\n",
    "\n",
    "\n",
    "4. Intercambiar **1682.45 D_MARKS por dólares estadounidenses** (0.6361 USD_DOLLARS/D_MARK) = **1070.2121 USD_DOLLARS.**\n"
   ]
  },
  {
   "cell_type": "markdown",
   "metadata": {},
   "source": [
    "### 1.4.2 Utilidad neta"
   ]
  },
  {
   "cell_type": "code",
   "execution_count": 4,
   "metadata": {},
   "outputs": [
    {
     "name": "stdout",
     "output_type": "stream",
     "text": [
      "La utilidad neta es de 1.0 dólar (USD_DOLLAR)\n"
     ]
    }
   ],
   "source": [
    "print(\"La utilidad neta es de\", -sol.fun, \"dólar (USD_DOLLAR)\")"
   ]
  },
  {
   "cell_type": "markdown",
   "metadata": {},
   "source": [
    "## 1.5 Visualización de la solución del problema\n",
    "### 1.5.1 Ruta óptima"
   ]
  },
  {
   "cell_type": "markdown",
   "metadata": {},
   "source": [
    "![](Modelo2.png)"
   ]
  },
  {
   "cell_type": "markdown",
   "metadata": {},
   "source": [
    "## 1.6 Conclusiones"
   ]
  },
  {
   "cell_type": "markdown",
   "metadata": {},
   "source": [
    "+ Se encontró la ruta óptima en que los siguientes pares de divisas deben ser negociados para realizar arbitraje: haciendo una transacción de dólares a libras, de libras a francos, de francos a marcos y por último de marcos a dólares. Tal operación termina con una utilidad neta de 1  \n",
    "+ Por otra parte, el yen japonés sí fue tomado en cuenta para el modelo, pero tal divisa queda fuera de la ruta óptima (no ocurren transacciones con tal moneda).\n",
    "+ Se solucionó el problema con la ayuda de la librería Scipy y su módulo de programación lineal."
   ]
  },
  {
   "cell_type": "markdown",
   "metadata": {},
   "source": [
    "## 1.7 Referencias"
   ]
  },
  {
   "cell_type": "markdown",
   "metadata": {},
   "source": [
    "+ Columbia Business School. (1999). Lecture 5. Consultado el 29 de septiembre del 2019, de Columbia Business School. Sitio web: <http://www.meiss.com/columbia/en/teaching/1999/fall/B6015/download/lecture05/lec5.pdf>\n",
    "+  Montero, Y. (2015). Arbitraje Financiero. Consultado el 29 de septiembre del 2019, de Economipedia. Sitio web: <https://economipedia.com/definiciones/arbitraje-financiero.html>"
   ]
  }
 ],
 "metadata": {
  "kernelspec": {
   "display_name": "Python 3",
   "language": "python",
   "name": "python3"
  },
  "language_info": {
   "codemirror_mode": {
    "name": "ipython",
    "version": 3
   },
   "file_extension": ".py",
   "mimetype": "text/x-python",
   "name": "python",
   "nbconvert_exporter": "python",
   "pygments_lexer": "ipython3",
   "version": "3.7.1"
  }
 },
 "nbformat": 4,
 "nbformat_minor": 2
}
